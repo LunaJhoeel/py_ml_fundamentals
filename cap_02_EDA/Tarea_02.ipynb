{
  "cells": [
    {
      "cell_type": "markdown",
      "id": "dfe497ae",
      "metadata": {
        "id": "dfe497ae"
      },
      "source": [
        "## 1. CARGAR LOS DATOS EN UN DATAFRAME y MOSTRAR LAS 3 PRIMERAS Y 3 ULTIMAS FILAS"
      ]
    },
    {
      "cell_type": "code",
      "execution_count": 1,
      "id": "88f2a882",
      "metadata": {
        "id": "88f2a882"
      },
      "outputs": [],
      "source": [
        "import pandas as pd"
      ]
    },
    {
      "cell_type": "code",
      "source": [
        "# TODO:"
      ],
      "metadata": {
        "id": "ir3J7Kp3_z5o"
      },
      "id": "ir3J7Kp3_z5o",
      "execution_count": 3,
      "outputs": []
    },
    {
      "cell_type": "code",
      "source": [
        "# Tres primeras filas\n",
        "df ="
      ],
      "metadata": {
        "id": "Ohj_Q5zn9xxD"
      },
      "id": "Ohj_Q5zn9xxD",
      "execution_count": 4,
      "outputs": []
    },
    {
      "cell_type": "code",
      "source": [
        "# Test 01a\n",
        "if df.iloc[2, 3] == 94.5:\n",
        "    print(\"Felicitaciones, el código funciona correctamente!\")\n",
        "else:\n",
        "    print(\"Intenta de nuevo, algo salió mal.\")"
      ],
      "metadata": {
        "colab": {
          "base_uri": "https://localhost:8080/"
        },
        "id": "YBJAudU__abJ",
        "outputId": "63b5eee6-527f-48a0-cbb5-3f1bf1bcd6aa"
      },
      "id": "YBJAudU__abJ",
      "execution_count": 7,
      "outputs": [
        {
          "output_type": "stream",
          "name": "stdout",
          "text": [
            "Felicitaciones, el código funciona correctamente!\n"
          ]
        }
      ]
    },
    {
      "cell_type": "code",
      "source": [
        "# Tres ultimas filas\n",
        "df ="
      ],
      "metadata": {
        "id": "XaQgNvalDC4R"
      },
      "id": "XaQgNvalDC4R",
      "execution_count": 21,
      "outputs": []
    },
    {
      "cell_type": "code",
      "source": [
        "# Test 01b\n",
        "if df.iloc[60, 3] == 104.3:\n",
        "    print(\"Felicitaciones, el código funciona correctamente!\")\n",
        "else:\n",
        "    print(\"Intenta de nuevo, algo salió mal.\")"
      ],
      "metadata": {
        "colab": {
          "base_uri": "https://localhost:8080/"
        },
        "id": "bEhiDxPt_cTn",
        "outputId": "3bcaed02-dc6e-4905-e1cf-5ca0fe6dd015"
      },
      "id": "bEhiDxPt_cTn",
      "execution_count": 8,
      "outputs": [
        {
          "output_type": "stream",
          "name": "stdout",
          "text": [
            "Felicitaciones, el código funciona correctamente!\n"
          ]
        }
      ]
    },
    {
      "cell_type": "markdown",
      "source": [
        "## 2. REEMPLAZAR TODOS LOS NAN POR 0"
      ],
      "metadata": {
        "id": "Ew5uyHwA_3Pc"
      },
      "id": "Ew5uyHwA_3Pc"
    },
    {
      "cell_type": "code",
      "source": [
        "# TODO:"
      ],
      "metadata": {
        "id": "cFKJcNaNAO2y"
      },
      "id": "cFKJcNaNAO2y",
      "execution_count": 9,
      "outputs": []
    },
    {
      "cell_type": "code",
      "source": [
        "# Test 02\n",
        "if df['price'].isnull().sum() == 0:\n",
        "    print(\"Felicitaciones, el código funciona correctamente!\")\n",
        "else:\n",
        "    print(\"Intenta de nuevo, algo salió mal.\")"
      ],
      "metadata": {
        "colab": {
          "base_uri": "https://localhost:8080/"
        },
        "id": "Ou-5qncr_42I",
        "outputId": "cddcf1fe-7285-4173-b861-26d555edc95f"
      },
      "id": "Ou-5qncr_42I",
      "execution_count": 12,
      "outputs": [
        {
          "output_type": "stream",
          "name": "stdout",
          "text": [
            "Felicitaciones, el código funciona correctamente!\n"
          ]
        }
      ]
    },
    {
      "cell_type": "markdown",
      "source": [
        "## 3. ENCONTRAR EL AUTO MAS CARO Y MOSTRAR LA EMPRESA"
      ],
      "metadata": {
        "id": "wl42m3_lAQGZ"
      },
      "id": "wl42m3_lAQGZ"
    },
    {
      "cell_type": "code",
      "source": [
        "# TODO:"
      ],
      "metadata": {
        "id": "rgGC3jDqAUNG"
      },
      "id": "rgGC3jDqAUNG",
      "execution_count": 13,
      "outputs": []
    },
    {
      "cell_type": "code",
      "source": [
        "# Encontrar la fila con el precio máximo\n",
        "auto_mas_caro =\n",
        "\n",
        "# Extraer la empresa y el precio del automóvil más caro\n",
        "empresa_auto_mas_caro =\n",
        "precio_auto_mas_caro ="
      ],
      "metadata": {
        "id": "RuXuzJgjA7jK"
      },
      "id": "RuXuzJgjA7jK",
      "execution_count": 14,
      "outputs": []
    },
    {
      "cell_type": "code",
      "source": [
        "# Test 03\n",
        "if precio_auto_mas_caro == 45400 and empresa_auto_mas_caro == 'mercedes-benz':\n",
        "    print(\"Felicitaciones, el código funciona correctamente!\")\n",
        "else:\n",
        "    print(\"Intenta de nuevo, algo salió mal.\")"
      ],
      "metadata": {
        "colab": {
          "base_uri": "https://localhost:8080/"
        },
        "id": "hwEjqDFQBDfZ",
        "outputId": "15ca40cd-8eba-457d-ca23-f85d555bf236"
      },
      "id": "hwEjqDFQBDfZ",
      "execution_count": 15,
      "outputs": [
        {
          "output_type": "stream",
          "name": "stdout",
          "text": [
            "Felicitaciones, el código funciona correctamente!\n"
          ]
        }
      ]
    },
    {
      "cell_type": "markdown",
      "source": [
        "## 4.CONTAR EL TOTAL DE AUTOS POR EMPRESA\n"
      ],
      "metadata": {
        "id": "pOueH963A1N3"
      },
      "id": "pOueH963A1N3"
    },
    {
      "cell_type": "code",
      "source": [
        "# TODO:"
      ],
      "metadata": {
        "id": "Dx2U2usSC4kc"
      },
      "id": "Dx2U2usSC4kc",
      "execution_count": null,
      "outputs": []
    },
    {
      "cell_type": "code",
      "source": [
        "autos_por_empresa ="
      ],
      "metadata": {
        "id": "dvZGhEzLA3D8"
      },
      "id": "dvZGhEzLA3D8",
      "execution_count": 16,
      "outputs": []
    },
    {
      "cell_type": "code",
      "source": [
        "# Test 04\n",
        "if str(autos_por_empresa.iloc[3:4].index[0]) == 'nissan':\n",
        "    print(\"Felicitaciones, el código funciona correctamente!\")\n",
        "else:\n",
        "    print(\"Intenta de nuevo, algo salió mal.\")"
      ],
      "metadata": {
        "colab": {
          "base_uri": "https://localhost:8080/"
        },
        "id": "J3TYCbtEBsvm",
        "outputId": "4ef0d120-c1e1-45a4-cc1c-9d319af6182a"
      },
      "id": "J3TYCbtEBsvm",
      "execution_count": 20,
      "outputs": [
        {
          "output_type": "stream",
          "name": "stdout",
          "text": [
            "Felicitaciones, el código funciona correctamente!\n"
          ]
        }
      ]
    },
    {
      "cell_type": "markdown",
      "source": [
        "## 5. CREAR UN PLOT ADECUADO PARA LA DATA ANTERIOR (4.)"
      ],
      "metadata": {
        "id": "-aRzQi74A3YF"
      },
      "id": "-aRzQi74A3YF"
    },
    {
      "cell_type": "code",
      "source": [
        "# TODO"
      ],
      "metadata": {
        "id": "yD7d1z2vA51v"
      },
      "id": "yD7d1z2vA51v",
      "execution_count": 20,
      "outputs": []
    }
  ],
  "metadata": {
    "colab": {
      "provenance": []
    },
    "language_info": {
      "name": "python"
    },
    "kernelspec": {
      "name": "python3",
      "display_name": "Python 3"
    }
  },
  "nbformat": 4,
  "nbformat_minor": 5
}