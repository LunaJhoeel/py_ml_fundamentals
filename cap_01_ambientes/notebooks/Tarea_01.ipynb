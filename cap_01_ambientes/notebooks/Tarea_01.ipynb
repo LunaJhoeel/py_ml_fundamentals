{
  "nbformat": 4,
  "nbformat_minor": 0,
  "metadata": {
    "colab": {
      "provenance": []
    },
    "kernelspec": {
      "name": "python3",
      "display_name": "Python 3"
    },
    "language_info": {
      "name": "python"
    }
  },
  "cells": [
    {
      "cell_type": "markdown",
      "source": [
        "# Cadenas"
      ],
      "metadata": {
        "id": "rg_M29IrGWCf"
      }
    },
    {
      "cell_type": "markdown",
      "source": [
        "Crear un programa que toma una frase; por ejemplo,\n",
        "\"python_es_el_mejor_lenguaje\" y transformarla al siguiente formato\n",
        "\"PythonEsElMejorLenguaje\""
      ],
      "metadata": {
        "id": "QwsVc6ImGZ6n"
      }
    },
    {
      "cell_type": "code",
      "source": [
        "# Frase de entrada\n",
        "frase_entrada = \"python_es_el_mejor_lenguaje\""
      ],
      "metadata": {
        "id": "h7ME-nPEJBcS"
      },
      "execution_count": null,
      "outputs": []
    },
    {
      "cell_type": "code",
      "source": [
        "# Dividir la frase en palabras separadas por guiones bajos\n",
        "palabras = frase_entrada.split('_')"
      ],
      "metadata": {
        "id": "6TqPMOONJCJ7"
      },
      "execution_count": null,
      "outputs": []
    },
    {
      "cell_type": "code",
      "source": [
        "# Capitalizar cada palabra y luego unirlas\n",
        "frase_transformada = ''.join([palabra.capitalize() for palabra in palabras])"
      ],
      "metadata": {
        "id": "Nm000NWiJCuQ"
      },
      "execution_count": null,
      "outputs": []
    },
    {
      "cell_type": "markdown",
      "source": [
        "**Test.** No modificar el test, sólo ejecutar:"
      ],
      "metadata": {
        "id": "HMfs8CT0Hwh0"
      }
    },
    {
      "cell_type": "code",
      "source": [
        "# Prueba básica para verificar si el código funciona correctamente\n",
        "if frase_transformada == \"PythonEsElMejorLenguaje\":\n",
        "    print(\"Felicitaciones, el código funciona correctamente!\")\n",
        "else:\n",
        "    print(\"Intenta de nuevo, algo salió mal.\")"
      ],
      "metadata": {
        "colab": {
          "base_uri": "https://localhost:8080/"
        },
        "id": "2lAjhFz9IERq",
        "outputId": "ada7fdc6-b460-48e8-9884-2f67fabdb4ca"
      },
      "execution_count": null,
      "outputs": [
        {
          "output_type": "stream",
          "name": "stdout",
          "text": [
            "Felicitaciones, el código funciona correctamente!\n"
          ]
        }
      ]
    },
    {
      "cell_type": "markdown",
      "source": [
        "# Listas"
      ],
      "metadata": {
        "id": "E7l_q-N0GcZj"
      }
    },
    {
      "cell_type": "markdown",
      "source": [
        "Crear un programa que cuenta el número de elementos positivos y negativos\n",
        "en una lista\n",
        "\n",
        "a. [-12, 14, 95, 3]\n",
        "\n",
        "b. pos = 3, neg = 1"
      ],
      "metadata": {
        "id": "kpWk__A7Geov"
      }
    },
    {
      "cell_type": "code",
      "source": [
        "# Inicializamos los contadores para los números positivos y negativos\n",
        "pos_cont = 0\n",
        "neg_cont = 0"
      ],
      "metadata": {
        "id": "bsb-bktkHEcX"
      },
      "execution_count": null,
      "outputs": []
    },
    {
      "cell_type": "code",
      "source": [
        "# TODO: agregar código"
      ],
      "metadata": {
        "id": "LKTjuhRyJUxK"
      },
      "execution_count": null,
      "outputs": []
    },
    {
      "cell_type": "markdown",
      "source": [
        "**Test.** No modificar el test, sólo ejecutar:"
      ],
      "metadata": {
        "id": "vmrJX-geJKR8"
      }
    },
    {
      "cell_type": "code",
      "source": [
        "# Prueba básica para verificar si el código funciona correctamente\n",
        "if pos_cont == 3 and neg_cont == 1:\n",
        "    print(\"Felicitaciones, el código funciona correctamente!\")\n",
        "else:\n",
        "    print(\"Intenta de nuevo, algo salió mal.\")"
      ],
      "metadata": {
        "colab": {
          "base_uri": "https://localhost:8080/"
        },
        "id": "582WxwEUJKpN",
        "outputId": "1e9ced89-837f-4709-d418-1351a3bdef35"
      },
      "execution_count": null,
      "outputs": [
        {
          "output_type": "stream",
          "name": "stdout",
          "text": [
            "Felicitaciones, el código funciona correctamente!\n"
          ]
        }
      ]
    },
    {
      "cell_type": "markdown",
      "source": [
        "# Diccionario"
      ],
      "metadata": {
        "id": "HwBiRz9tGksV"
      }
    },
    {
      "cell_type": "markdown",
      "source": [
        "Del siguiente diccionario, calcular el promedio de los valores {'A':1,\n",
        "'B':50, 'C':10, 'D':3, 'E':41}"
      ],
      "metadata": {
        "id": "oS6qcxL6Gp5h"
      }
    },
    {
      "cell_type": "code",
      "source": [
        "# Define el diccionario\n",
        "diccionario = {'A': 1, 'B': 50, 'C': 10, 'D': 3, 'E': 41}"
      ],
      "metadata": {
        "id": "l6uqLX41HEyx"
      },
      "execution_count": null,
      "outputs": []
    },
    {
      "cell_type": "code",
      "source": [
        "# TODO: agregar código"
      ],
      "metadata": {
        "id": "6s4Pxl8wJ_8O"
      },
      "execution_count": 3,
      "outputs": []
    },
    {
      "cell_type": "markdown",
      "source": [
        "**Test.** No modificar el test, sólo ejecutar:"
      ],
      "metadata": {
        "id": "UgQrAnRhKbEe"
      }
    },
    {
      "cell_type": "code",
      "source": [
        "# Prueba básica para verificar si el código funciona correctamente\n",
        "if promedio == 21.0:\n",
        "    print(\"Felicitaciones, el código funciona correctamente!\")\n",
        "else:\n",
        "    print(\"Intenta de nuevo, algo salió mal.\")"
      ],
      "metadata": {
        "colab": {
          "base_uri": "https://localhost:8080/"
        },
        "id": "2l1m2079KZ2J",
        "outputId": "49e466e7-08a8-4256-cc64-b9f3e733fbff"
      },
      "execution_count": 5,
      "outputs": [
        {
          "output_type": "stream",
          "name": "stdout",
          "text": [
            "Felicitaciones, el código funciona correctamente!\n"
          ]
        }
      ]
    },
    {
      "cell_type": "markdown",
      "source": [
        "# Lambda"
      ],
      "metadata": {
        "id": "19BVaUB1GwQd"
      }
    },
    {
      "cell_type": "markdown",
      "source": [
        "De la fecha actual, extraer año, mes, día y hora, usando lambda.\n",
        "Usar datetime"
      ],
      "metadata": {
        "id": "GfKUKQZjGyB8"
      }
    },
    {
      "cell_type": "code",
      "execution_count": null,
      "metadata": {
        "id": "pU1ywWZiGRts"
      },
      "outputs": [],
      "source": [
        "from datetime import datetime"
      ]
    },
    {
      "cell_type": "code",
      "source": [
        "# Función lambda para obtener la fecha y hora actuales\n",
        "obtener_fecha_hora_actual = lambda: datetime.now()\n",
        "\n",
        "# Funciones lambda para extraer el año, mes, día y hora\n",
        "obtener_año =\n",
        "obtener_mes =\n",
        "obtener_dia =\n",
        "obtener_hora ="
      ],
      "metadata": {
        "id": "aBbkAXyVMVsF"
      },
      "execution_count": null,
      "outputs": []
    },
    {
      "cell_type": "markdown",
      "source": [
        "**Test.** No modificar el test, sólo ejecutar:"
      ],
      "metadata": {
        "id": "yux5ZoE_MwSL"
      }
    },
    {
      "cell_type": "code",
      "source": [
        "# Obtener la fecha y hora actuales de nuevo para la comparación\n",
        "fecha_hora_actual_test = datetime.now()\n",
        "año_test = fecha_hora_actual_test.year\n",
        "mes_test = fecha_hora_actual_test.month\n",
        "dia_test = fecha_hora_actual_test.day\n",
        "hora_test = fecha_hora_actual_test.hour\n",
        "\n",
        "# Prueba básica para verificar si el código funciona correctamente\n",
        "if año == año_test and mes == mes_test and dia == dia_test and hora == hora_test:\n",
        "    print(\"Felicitaciones, el código funciona correctamente!\")\n",
        "else:\n",
        "    print(\"Intenta de nuevo, algo salió mal.\")"
      ],
      "metadata": {
        "colab": {
          "base_uri": "https://localhost:8080/"
        },
        "id": "sXKgepOlMv_c",
        "outputId": "de53e7ea-c14e-496e-e9c0-d832bc27aa48"
      },
      "execution_count": null,
      "outputs": [
        {
          "output_type": "stream",
          "name": "stdout",
          "text": [
            "Felicitaciones, el código funciona correctamente!\n"
          ]
        }
      ]
    },
    {
      "cell_type": "markdown",
      "source": [
        "# Función"
      ],
      "metadata": {
        "id": "o469qSuvGrfw"
      }
    },
    {
      "cell_type": "markdown",
      "source": [
        "Crear una función que retorna 10 filas del triángulo de Pascal. Ejemplo de\n",
        "5 filas en la imagen:\n",
        "\n",
        "![Cibertec.png](data:image/png;base64,iVBORw0KGgoAAAANSUhEUgAAAPMAAADPCAYAAAAgTufpAAAAAXNSR0IArs4c6QAAIABJREFUeF7tXQd4VUXaftMICWmQAgkhkAChJHSkd5AAllUBXdayuthYdkVXXX9FVFRcXVHX3RVc1rZWUAGliNRAQgeBNJKQkEoS0hPS283/fJPccHNzE+6ZMxfPJTPPw6NcZubMeWfe88188xWbxsbGRsgiEZAIWD0CNpLMVj+H8gUkAgwBSWa5ECQCNwgCksw3yETK15AISDLLNSARuEEQkGTW4ESGhx9EREQEHBwc4O7u3u4IbWxs2L8Z6zDpd1O/GXdkSvep79OwrnE9T09PjB07BgMGDNAgep13SJLMGpz7jRs34qefdsHPzw++vr6KR2iKzIo7aadBaWkp6urqMHv2LMyYMUNUt7IfAQhIMgsAUXQXe/fuQ2xsLKZPn4bQ0FDR3avqLzo6BpGRkRg5cgRmzpypqi/ZWCwCksxi8RTS2/79BxiZiSzDhw8T0qeoTs6di8KhQ4fYuCSZRaEqph9JZjE4Cu1l//79iI2N0ziZh2PmTLnNFjrxKjuTZFYJoCWaa5nMUVEkmSMwbBhJZklmS8w/b5+SzLzIWbCdlskst9kWnHiVXUsyqwTQEs0lmS2B6o3fpySzBudYT+ZZs2ay7ayWipTMWpqN1mORZNbg3EjJrMFJsYIhSTJrcJIkmTU4KVYwJElmDU4S3TPHxdHV1Ay5zdbg/Gh1SJLMGpwZUWROS0vDxo2b4O7uhsWLF8PLy0v128ozs2oILdaBJLPFoOXvWO02OzU1DZs2bWJ/kpMvYunSh/DCCy/Ax8eHf1DNLSWZVUNosQ4kmS0GLX/HashcW1uLzMxM5ObmYtOmb/G//32O+++/D6tWvSjJzD8lVtFSklmD06TmaorcFRsaGqDT6fDDDz/i9dfXMIcN8WSW5pxaWzqSzFqbEQCizsxE5ldffQ2TJ08SRmYy5zx4UDpaaHDZyBhgWpwUUV5TliCzPDNrccU0jUlKZg3OjXWQWW6ztbZ0JJm1NiPN22wR/syWlcySzFpbOpLMWpsRRmYx/sySzBqcXAsOSZLZguDydi3JzItc524nyazB+Zdk1uCkWMGQJJk1OEmSzBqcFCsYkiSzBidJklmDk2IFQ5Jk1uAkWcfVlIzOqbWlI8mstRnRuAWYNBrR4IJpHpIkswbnRpRkpswYr776OqZOnYJVq1bB37+36re9SmZ5z6waTMEdSDILBlREd2rJnJGRgbNnzzKPqZ07f8LAgQOwZMkS3HLLLQgOHghnZ2fuYUoyc0Nn8YaSzBaHWPkD1Dpa1NTUoLKyEsXFJaioqECXLg5wc3NjSei6du0KW1tb5YNqbiHjZnNDZ/GGkswWh1j5A9S4QCp/mrIW0mtKGV7Xs7Yk8/VE28xnSTKbCZSs1goBSWYNLghR98yWeDWpzbYEqmL6lGQWg6PQXiSZhcLZaTqTZNbgVFsHmeXVlNaWjiSz1mbEwAVSpqfR4ORoeEiSzBqcHKkA0+CkWMGQJJk1OEmSzBqcFCsYkiSzBidJrQWYJV9J3jNbEl11fUsyq8MPkZGRiImJZSaSTk5O7fZmY9P0T42NravQ78a/UfyvxMQL6N7dAz16dG/VQF9X35+pB+rrXLlyBWVlZXBzc2UWYPpiagyGYzPu2/CZRUXFKCkpweDBgxASEmLynehHU+Mzfq6LiwuGDh2CwMBAlbMgmzPMGylquizcCHz66aeIiIhEQEAAevToobgfGxsbGE9BdnY20tLSUVNTDVtbO9anKdIbPsyQPPoZzc7OQmadF1yCJjJTTrWFFgoF17e3t2N5q7p3b/7QmFpBzR+v1l+iq3/rWnMZfXSpmDJlMmbPnq12aLK9JLP6NbB582Zsj66AV/9R8PS8KkXb+0JeY42zAdXV1aG2pgYNOh2g74gamvp//SuY6Dj7l52IT8uDz5g7mLOFqEIfIDt7e9ipsPF2KEmG++WDCAkZigULFogaWqfuR0pmldO/fft2bE2wh0f/m9psiVV2rbp59rGNiIu/AL/xixhptFTsi5PglLGHfWQkmcXMjCSzShy3bduOrYl26N5/nCSzAiyvknkgFiyYr6ClrNoeApLMKteGJDMfgPYlSXDO2IsBA0gySzLzodi6lSSzShQlmfkAlNtsPtw6aiXJrBJTLZM56+hGnE+QZ2aVU2w1zSWZVU6VJDMfgFIy8+EmJbN43Fp6lGTmA1eSmQ83SWbxuEkyq8RUklklgCaay222SkzlPTMfgJLMfLhJySwet5YeRZK5pKQUSclJ8HB3Z+ahjo6OqkZuKaMRiviZmpaG+ro6BAcHc4XulWRWNbUmG0vJrBJTEWdmInFychKSkpKRm5uLMWPGYOzYMR06bpgzbNFkZiROTUNCYgJycnIQ0CcAFEDB1dXVnOG0qiPJrBiyazaQZL4mRB1XUEvmhoYGFt+6qKiIBa6/ePEiJk2ahPHjx6kms8irqYYGHcrLy1FQUIDExERER0czg4+wsLmSzCrXkKjmkswqkVRLZp2uEfX1dcxz6uy5czhx/ARGjBihOTLT+Orr60GkTktLxcFDh+Dl6SWAzNKcU+USbGkuyawSSZFn5qjoaByOPMz8hEVIZtHbbD1UaWlpOBAeDjdXN34ylyTBKV06Wqhcfq2aSzKrRFOSWW6zVS4hYc0lmVVCKcmslsxym61yCcpttigAJZklmUWtJbX9SMmsEkG1CjDDx4s+M4vUZhuOU8iZuSU4gZTMKpeglMyiAJRklpJZ1FpS24+UzCoRlGSWZFa5hIQ1l2RWCaUksySzyiUkrLkks0ooJZklmVUuIWHNJZlVQim12WrJLKNzqlyCUgEmCkBJZklmUWtJbT9SMqtEUCSZfzlzBkcOH0FoaCgz5+zWrZuq0VnKnJOcQfYfOAAPdw/MnTsXHh7Ks2XIULuqptZkY0lmlZiKIDPlhCosLMIvv5zGhQtJ6O3fmzlb9A0IYB5J9vb2XKMUTebKykoUFBQiPj4e586dY/mrRo0ahf79g+Dh4QEHBwezxynJbDZUZleUZDYbKtMVRZC5uroaRBRyg6yqqkKXLl1Ybij6QwEKbDnTwIgmc21tHSorK1jiOEpIRx8ZIrS7uwecnLrCzq4pL5Y5RcbNNgclZXUkmZXh1aa2SG22yqG0aS6azCLHR2SWXlMiEZVZIFWjaQky19VUwcbWDvYOXVSNT5JZFXxW11hKZpVTJprMFaWFiIvYCu8+A9F3+GTY2vKdl+m1yDY7LuECegtMHFdfVws06mDfpasq5GTYIFXwSQWYePgA0WSurSrHsa3rUV9ThRE3L4GX/0DuYYsms66hHqlRkSi5nIbBU25HNzdP7rFJMnND125DKZlVYiqazDScyxdjcGrHR/AbOBKhMxbD0dmFa5SivabyMxMRtfcbODq7YdxvHoOjE//VmdRmc01ph40kmVViagkyN9TXIebAt7iUeBqhMxahb+hE2NjYKh6pSDLXVJYh+sAm5KbGYewtS9ErKFTxeAwbSMmsCj65zRYPn/httn6MZUW5OLF1HRycumHEnCXw8OmjePiiFGCNjTqkRR3G+cit8B8yDqEzFsLOXp1yTmqzFU/nNRtIyXxNiDquYAnJTE+kaJgZcccRte9r9Bs2FUOm3A4HR2VKJ1FkLs7NQNSer0Bn5nG3PwqXHj1VogZIMquGsE0HkswqMRVhNNLeEOiK6szP/0NRdiqGz74HvYNHKxqtCDLX1VQjLmILMs+fYDuEPkPHw8bGRtE4TFWWZFYNoSQzIXDq1Gmkp6fDxcWlQxNE/ZptbGyNG/2u/+3YsaM4mOcDW6+2aVqMmqE9Cujr0b/X1NSgvqGeWYE52DugJDcdGSd+hLt3b/QeeTPsnNzYYIz7MuyDSXYAZTHbUZB8Gr4DRqJv3wCDl6DWxqMzvbiKCguQFHUczl3t0XfoONTUNbDg/ISdmtJQUQiUpGHAgP4YP358q66M8WbvawI843pkLUfv2aeP8iOJmnfRSttOKZk//PA/OHXqFIKCgrgWJUkm2gZTSU1NRWJeHWrQtcXsstUiM1yEzfwxXpgttGoELl/OQYFdL7j4DUY3526g82pZZgzK0s7AJWAEXANGMIMSRlhdAyM1/d0UmesK01Bfcgkurq5G72mDRjS2+3HRL876qivISz6Dmjodeg0eD11xBq6knICnpyf69PFv+aC1t5iNP4aGf6dMHnZ2tujXrx/69u2rmg+1tbWgP2PHjmWxvDtj6ZRk/vjjT1gamDlzZsPLy9tg3tuTVqZkalNdsqkuKyuHTtfQ0o8hmQ2Jq/+9vV0q/fvOnTsQnumE3mMWwNfXj/Wpq61C8tHNKCnIReC4W+AdMBj1dTWoLM2Hg6MznFx7mFy7NCbKmEG23dey76bzML2RnV2TkQr9PeX0HuQnn0bwhAXwDBqNkoQDKDjxDcaMGYsFC+a1y5drvae+Idlyu7i4wtnZSQX3mnYZ+fkFOH78OEtkt3jxIhX9WW/TTknmTZu+xeXLl3H33Yvh6+urqdlbv349vjpRjIFTF6F///4tY8tLi8fpHR/Dq89ADJt9Dxrq6pCbGgNXTz/49B2s+h0qSgtQX1uNbu7esO/iyK6govZthIuHN0YveBBdu7khL2oXsiI+w7x58/DIIw+rfqbIDjIzL2HLli3w8/OTZBYJrNb72rhxE8u2aE1kbmiox/mIrUiPPsI0227evZFyNhw9A0PQb/hU1ZDnpp1HRXEeegaGwtbOnmnRiy+nYeyCP8C7+WNhDWTu3bs3Fi1aqBoPa+uAjn2dUjJbE5lpO01ndFs7B1SWFuDktg1sW+kVMAgZscfRb/hkhEy7S/XaSzl7CAWZFxA0agYz10w4thP9RkxjHw791lvLZL50iSTzViaZOxuZiciSzFawza6rrUZhVjJKczPg0r0nqitKEX94G6rKS3AlPwvDZizCTbc9AhtOn2f9VyAm/Dtkxp9EwNAJyE2Lg719F4y97WE4u3lCR1kq0Yii8wdw6dBnmD9fbrNVfz0FdqDT6UB/pGTW2Jl53br1+Prk1TMzKbFK8y8h+8JZZCf+gpqqchSkJ6IoJwXVZSWYcNdyTL77KW77bVpTjTodjv+wHvFHtsHN0xdObp4YMvk2ODq5oLwkHx49A9Cjd38Unw/HpQhJZoE8VN0VSWQiMqXblWTWOJn1s02ukWnRkU0GHHHHUVZ4GQ11NcxOetq9z6F7L/7rHbK7jvhmLU5t34Cuzm7w9B8Ir4BgODq5wi94NPyCR8HN2x8F0bslmVXTT2wHRGa65qNoNZLMVkJmWgJ0fiaPqrhD3yMu4kcU56QieMI8zHxgJfwH38S9SopyUnHoyzdxZtdnsHNwhKuXHwJCxiNk6l3oN3wKnN2bXB3zzu2SZOZG2TIN9VKZrkglma2IzGxL3NiI0rxMXDi5G9H7vmH329PvfQ6DJizgXi1kqhn++RokndyDHn5BGDrtDoROvws9g4bB3sHx6vWYJDM3xpZoqFd81dXVsZhsnZLMdM9MV1NkXKD2njk7OxtHjhxlESqHDh2Krl2VOUMYT3J798zG9aorryAz7gS7ngocMQ3B45uMOOhLXVRUzO7Ri4oK2RbMw6M7e09Pzx4mzVfjj2xHxDdvw97eAcNnL8HAcWFw9/FvY4MtUptNi+/cuSgWxHD69Gksuqea0hnvmfXnZSIzRXiVZOaUzFlZ2Th69CjCww8wMv/pT8txzz33sGiVaoq5ZGbEbahHUXYK7B2dmIskETk7OwdRUVEsgqauUYfiomI2HG9vb4SEhCA4eGCbD07C0Z3IiD2KoNEz0GfIeDh2M/0OIshMiy4qKhoHDuxHREQkevbsibfeelO1PXVnJjOZsXZaMqu9Z6YvYUJCAk6fPo0NGz7CL7/8grVr38aDD/7+upLZ+KNBMa3JTLW8vBw9PHuwmNulJSVISUkF5VTu3r07pk2bxpwbDM07Sy5noKG+Bt19A5nBSHuFyKzmaop2CbQjIrv4HTt2guZh0qRJ+OijDZLMHBJAL5klmVVYgNE1AJN8Oh3ee+99fPzxx3jxxZVCyGx8NWXuHNNYkpKSUVVdhcB+gYzItrY2bJudl5fP7JYpwP7IkSMxZcokrmwZahVgNMaKigr2hzzXVq1ahZ49e0kymzvJRvUkmQEmEUSZc37wwTq8/fZa/OUvT/2qZKbdwuXcXBY038fb0Hmk6Rx9/nw8IiIi2HZ7xozp7L9Ki1oyGz6PyPzCCy/A1tZOKJk7kzmnJDMAkQow0WRev/5DfHWiqI2jxbWIRxKYdgzkiWQqnc2lS1k4dOgQI/v06URmr2t12ebfRZyZ9Z2KJjOZc27e3LkcLSSZm8ksymtKPJlNe00pZp5RA9K6E5lJQUdk5gkuoGUySwVYJ9ZmdzYyJyYmIiYmBkFB/TFixHBFeaH03wVrILPcZqv97FtZe5H+zNYgmUnbSZr3ysoqjBkzmmm1eYokMw9qlmsjt9k3qAKsoyVD8c5SU9Pg7++PoKDAa0YdafdqSqAFmOgzs36bLSWz5T4emuz5RtRmtwc0GRMkX7zIFF8D+vdn/+UtUpvNi5xl2knJ3IkkM+V6Ji0vabpJKvMovQyXoSSzZUjJ26skcychMxH58uVcFrGSTCY9PNx510xLO0lm1RAK7UCSuROQua6unjlaVFZWMAsrEUSmVSjJLJSLqjuTZL7B75lJIhcWFqGmphpeXl5wd28tkclum6R1t27dFJ+frUGb3Zmic0oyC7YAe/fd9/Dee//AU089iT/84SHVrnxKvKaMP+1E5Pj4eOTm5jELL3cjt8LqqioUF5cwV0gK46vUXVMkmclW/K9/fQ6Ojl2xYcOHCAwMVCWppNGINBrh9mcm2+6srCysXfsuduzYgd/85nY88MADGDlyBLvHNWVSac5q5SUzhY0hT65jx46zEDIurm3Tx1RVVsHV1YV5Kg0aNMic4bSqI4LMtDPIzMzEnj17sXbtO+zj9/TTf2E+zeRzrfQDox+gvJqSZOYmM/kNZ2Sk4+jRY8jLy2NKJrKsogAFtL39NchM7o85OZc7JKmXlyeTgsbbb3OYLYLMFJSAUvrExZ1nfte03R88eBDz5qIcUZLM5sxEUx25zRa8zTYfevNq8jpamNe7ulpNZP4f5s0L01xGi84YN1uSWbA2Wx092rbm3WaLHoep/kRIZkuNU3pNddJttkgLMNGLU5KZD1FJZklm7jMz35K7diuKNPLVyWIEGyWOu3ZLy9cQec8serRSmy3JLMmsgFWSzArAug5V5ZlZ42dm3hhg12HtCLUAEz1eeTUlJbMmJbNhrinRi15Nf1Iyq0FPfFspmTUumaUCjG/RSwWYlMyak8ySzJLM5iIgJbNgRwtzgTe3ntaNRtQEwTcXA556UjJbkWSOj09AYWEBM/8zzMbQduJtmn9qNPon+r3pt59/3gOKVjl+/Dh0726Y4+hqHSULijLwkduhs7OTyVxOSvratetnRCYUIWjkFPj792nd1NQrmepcX88GzE67pqaGeUgxU0njPvTt9bDp/27QB/upEci7eBpZ5w6wOGJz595s8GQ+3CjWN8Ulc3Cwh7OzsxKY2tQlTzGKc0ZBGG6+2XBszYNv08L4hdvWs7OzZw4rZKqrxWK1kvmf//wXYmNjMWDAAMWuezQRNjY2zJaVCgWEv3QpkxGP4kyzaWxvkTfPoo3R3BvWJxttsjkm22KyeTa3L309fd/097y8XNYXBanX20+b218LDw3ehRxCCgry4eo3CO69B6ki85WyKyx3lYurK/O8ulqasG0FkSmuGPLFBiyzRcGlJLjY1cFzwE2qxtagawB9HHr16oWgoKBW3NPPu+GPtB6Mi2E9+n971GPWsJ4ICwvTIpet1zb7nXfeBQWmu/nmOa3C37S30E3MVQvJiouLmCsghdMRUX7++WekpaUjLGwupyvfVclGfsgUzL5LF0fVUp7e7eTJkzhz5iw8RtwKj2G3tPu6xoLYVEXCi/5QFgp7++aPoJF8bk+wtyEOwLJVZkftQy+7YnhPe1TV2Kgx7dho99G1q5Pqaa2rq0VJTgoW9ivE73//gOr+LNGB1Urmzz77H0pLSxmwatN/igb2zTffZLmT/vrXZzF+/HjR3avq7+uvv8HmzZvRa/xi+I5bpKov0Y0zMjIRe/A7DPECAhf8RXT3qvoj3/DkmJNY0POSJLMqJE00/vTTz1jaSklmZchKMivDS19bT+ZbemXhgQfu5+vEwq2sVjJLMvOtDElmPtwkmflwM6uV1sl88uRpPPecNrfZ33+/Gb60zR6vwW12+HcY7A0EyW22WTwwrCQls2LIrt3gb39rOjNLMl8bK8MadGaOCf8OQySZlQHXXFuSmQu2jhtZBZknaFMBFnPwOwyVCjCuVSnJzAWbJLMFYAOTzJLM3NBKMnND135DKZn5QJVk5sNN38pqyUz3zHQ1RdcE8p7Z/EUgtdnmY2VYU94z8+FmViuRZC4oKERCQjz69evHzP94w+LqBy7CaKSoqAhJScnIzMyATgf07u2HQYOC0aNHD+4UrDQ+EWQm2+7i4mKUlJSgvr6B2ceTOSclouvYTr7jqRVtNEJju3KllJmJ+vj4cJn96kcsyWwWLfkqibiaKigoYIHiIyMPY/v2HXj66acwf/581Ub+RGY1V1OUF+rHH39EREQkzp8/zzJSUMaJxYsX4c4772A237yFyKzmaooWdUpKCpKTk5FfUIArpVfQrZsL+9CEhIQwRwTewsgs4GqKzF9p15adk4PUlFRUVFYgbO5c7qTy9D6SzLyzakY7tWQmm+KzZ8+B7Kipr7S0NHz++We48847VZNZzZmZPK727t2LPXv2wMenF7y9PRETE4vw8IPMDvr555/Hb397N/cY1ZCZSEJZOxITE5mjCmXqIAlNidtJ+lHg+okTJ6JrV76czyKupujcSMRLT8/A+fjzSIhPYE4q9CGk8fIWSWZe5Mxop5bMlCyNJCCVl156GZs3b8GHH6771clM2R1IGpM3GP0hLy6SMvS+77//L+a8QffXdCTgKS1knnA3fMctVNQFpZKhbB3kPkmpY2hLTZ5JFy4k4fDhw2ybPWfOHPTs6aOoX33lJgXY981XU09x9aHT6VBbW4eqqkrQUWX3nr2wt7MTRmZpzsk1LR03EnlmfvPNt1iyt3ffXSuEzNTfqVOnuBwtyKmefHnpbGxYKAEcJVajLTY5cKghM6+jBe0aGhp0LD+VYSGHl6NHjzKvpzlzZnP7+4o+MxcWFmLP3r0ou1ImjMzS0cJCZBblNSWezOK9psilks7ioaEhePDBB1u5fSqBV4QCzPh5tMUmt0rK/zxt2jQ4OfG5HEoyK5nJtnWt+mqqM5GZzvfR0VEYM2YMQkNDuWfdEmSmczPtKNzc3NC3b1/usVkDmeU2m3t6228o0p9Zy5KZlF4U0igiIoIRZezYsdyZEQlNkWQmSUBbbyIyBTMICgxCly4O3LMtycwNHWtotZJZrQLMEDbRZFajzdaPi0hMCqekpCRs3bqVad5pi7148d0sVWyXLl24Zv6qAozfNpsWDSm+SkpK2RUV3QS4urli6JChCAjowx0RRbQFmCXOzFIycy27jhvd6GQmspBEPnDgAHbu/AknT55CTk4O7rvvXjz//P8hODiYC1URZCYlGEnkzEuZ7JrqUuYlFvUlICAAs2bNZEH0eIokMw9qV9tIyQxAi5LZcFrpumrTpm/x8cefoqKiDH/729/wu98t4ZKAIshsODbaPVy4cAG//HKGXQWNG3cTpk6d1hITTMnylGRWgtYNpAC70SWz8VQRUVategmkK3j22Wfw5JMruGzSRZOZxknmnaTNPnToEAYOHMiSr5OJp9IiyawUsdb1pWS2AsmsnzLKI71mzRp2F05kNr6LNmcpWILM9Fy6Ojt48CBcXLohLGxem7toc8YmyWwOSu3XsVoydxZttuHUnThxEm+88QZmzpyJRx99hMukU6Q223Bs5Kxy7NgxZhVGhiNkJaa0WIM2WxqNKJ1VM+pr2wJMvNEIQULZLXbv3o3bb78Ns2bNMgOltlUsRWZS1sXFnWeOFmSjzVMkmXlQuwEUYCIl82uvvQ7KkPHOO29j4cKFXOc9w2lQ4wJJnlxkhOHKskR4MiUXXVPR71988QWz/LrjjjuYqyZPUUNmSm1DWmxyESWTU/ovbe3od7pCKy4pwfBhw7gdGkSTmTD7efduVJRXYNGiRUZZN5ShJ6NzKsNLUW0RZCZ/XPpDjhZbt/6AFStWYMmSe5jdM5kk8vrmqiHztm3bsHPnTmbfTAH0/fz8WEYL0mhXV9dg0qRJGDCgvyKsDCurIXNmZiZiY+MYLn36+Dcr4GyYIwgtdhqzn58v99hEkZk+fjSe7Owc7N+/n+FH+aZozJThQp+CSMlAJZmVoKWwrohtdmLiBSQmJjD/3vz8ApaTiO5JKYEcLUySijylydGCMlo8ozijxfbt2/HNNxuZVRUReciQIWwBDhkyGBMnTlLlL0zv0kTmLc0ZLZR5TdGYyHiFJB597Ly8veDU1Ykpu/r27Qd3dzceuFraNJH5++aMFnxeU9QZadfz8vKZu+bFi8lsHsnLKzAwCD4+3lwGN5LMqqa248Yir6ZED1ONZKaxkAEGSTty5yN7Z/rDI01MvZcayUz9keso7RB0ugZGEl5JZ2psoiSzvu9GnY6N086e76NsOEbpzyyaJQb93chktiBsQm2zjcdJxKFsfLZ29lyvIJLMdJavKC1AQUYC/IJHo0tX5ffeksxc06i8kZbJLMI2Wzki5rVQE2mkoyc01NWiKCcVDfW16NkvBDa2tuYNyKCWiEgj+u5qqspx4cTPiD+8DWGPvgF3Hz4TU31/UjIrnk7zG0gym4+VYU1LkbmqvARR+75BcU4qJi9+Em5efooHKIrMuoZ65FyMxqlt/0WfkIkYM199ClZJZsXTaX4DSWbzsTJJZgtktLiUcBox+zefleYfAAARYklEQVTCK2AQRoXdD/suXRUNUoQFGG2vy4vzELX3axReSsK8ZX+Ho3PryCiKBtVcWSrAeFAzs40ks5lAGVWzlDknPaa+tgZxEVuQei4CY29dit6DxrDAf+YWEWSuq6lGytlwRO39CpMWPgH/oePMfXyH9aRkFgKj6U60TGa12mwLwmZRBRiNuyQ3A+f2fIX62mpMXLQC3dxbxzLr6N3UKsBIAZefnohTOz6CR88ATF68QtHHpKOxSTJbcFVKMvOBq/Zq6lpPpW1uavRhxIV/j4BhkxA6/S6zr4bUkrnyShFiD25GetwxzF/2Jlw8+KKEmnpHSeZrzbyKfxdhAabi8R02JaMRCibQWVO61lSWIzp8E7ITz2Diwj/Dp+9gs6BWEwSftOnpsUdx5qfPMHzu7xB801yznmluJUlmE0iRiR3FNCZjg46L/qxF0aUMC/3eiG+//Y45w996661G7nZN/85TyCCCDDUoJA+vKSc99+OPP2GB65cufQjDhg0zGAr/2CjyCJkpkqGGGgOSn37ahT179sJ3ZBh8R95sGiZTkHcAKKWBofHZ29vBodlAo+BSEmIjt8HJzRtjwn7XlPLHeEoNj9ONQFZ2NuKP/YwgT3sEzWxHA92on91G2FCHNuxqG1cKcxEd8SPqygsw496/ttx16xp0qKmtZfPpqA+1ZPRc9mrXGBvZn6cnxWJ6r1IsXrzYBBqm1pwpfUHreqRTIN9vd3d3niXbqs11d4F89933WGQKCnvDsyjp5WnQ5AyfnZ3FgLC1tWsDBOldaJJbfQaasdX/bqibod/S09NRXV2FPn0CWtwLjeuYQty4zqVLmSgrK4e/f2+4urY1ceQZGwXsLy0tgY9PzxZHBp6x5efngdwVybvJy8tbCG7kGJJbXA4XL394eurT0zQiL/cycjNT4efbEz38gmBr2zQBNH/0vbVp/nvTb0BZWRkLjUTOJJRb62q5+hGkenT1pKuvhV2XroykpHjLz0pFTl4BgkNHwcUgMEJ1RSlyU2KZ+WlAQFPkUB7cyL6b1oafX2+MGsXnFWYMtj6W2vDhwxAWFmZ9ZH7xxVUsthVlPnBwuGopZEw8/ZuZUoZSXVrclF2BJKmptjyEoUgZFARu+vTp8PLyNAmu4bNaj+3qQqX40TT5TZ5FbU0JecZ29uxZ5mxB7oX9+wdxj62mpgo1NbXM39jRse3uiGdsKSkXcTKzHo5Db2c20PrSUFOO/POHcCU3Hb433QEXTz+gUYf6mio06hrQxfnqh46+u7TzaKivYx9nexN28XpK11YUoyI/Ey7eAbDv6oKSzHjkxuxDr8ET0H3gxJbnU5+1+ckoDP8nm0+aV1PFnDmldrTzoFQ3vB5rhmuanklrJCoqijn2LFv2uPWRef36D5l97+OPP8blwK76jTvo4PnnX2C7htdff405OGipfPjhf1gOqkceeYSF5dFS2bVrF9Z+FQ63UYtYXG/DkpMcze58yQKLrqsaG3Uoyk5l//XtP5zrNQqzLrLrp37DpqCLswvO7f4SZcW5CHt0DRwcnVv1WZ51HklbVmPw4MFYs+Z1rudZqhFt3f/znw3sWGeVZF63bj07X0kyK1si1krm+vo6JB7ZjgsndmH0/Afh6T8QmXHHYWNrh8GTblEGQnPt7AtncW7vlwgePw+1VRWIDf8eU3/3LHrRx6GxkX0o9Pbh1kBm2iURH9SW635mlmTmmzJrIzN5LDWiETY2tigrzGF3zxWl+Rg+67dIi4qAXRdHTLhjmWIwaMFS+4NfvYm+IRNRUVoE7z4DMOLme0FadFt7e2bx5ejkyvrWOpk3bPgvk8ySzIqXQscNaJtNPs5r1mhzm01aaIr9pdVttuuoRRjbvM0mpVRN5RXU19XAzr4L8tMTEBexGfaOzqguK4GTa3fMfXSNYqOOhoY6JBzZie3v/xkePgHo6uKOCXf9CeWFOSD7cJLOQaNmtNxtE5kvbG7aZr/xhtxmC6WM1iWzVsm8fn3TmVmLZKbrrne+Cofr6KtkJmusgswkpJ49iPq6Wnj07IPLF2NY8AFbOzv0GjACdzzzIRwU2m9XlZXg7O7PsWvds0yb7ebpC0dnN/gFj8LEhU+gV1BIq/VaRmdmSWahHG7pTJKZD1drILPb6LYKsLKiy4g58B0zIiGJXHWlCJVXCjFwXBhuWfEPePqa1sy3hxKZix7Z9B6O/7COOXKQU8eIOUswdsEfmJQ2LnoyU6QWqQDjW3vttpJk5gPUWslMb1tXU4W06MM4tuUDZMYdQ3V5CfyHjMPND7+OoFGmr4vaQ+lySiz2ffwS0mOPoG/IJIy/848YMHY2O5ubKpLMfOvNrFaSzGbB1KaSNZOZXoYUV4VZyTi94yPEhH8PR2dXTLnnaYyed78iQMjN8uAXb8DTfwAm3LUc3Xt2nEJWklkRvMoq0z0zXU099tij8p5ZAXTWps1u79WqyoqRcGwHYsM3I2j0DBbIQEkpyk5BdtJZDJqwAA6O107qrnVttlXfM4sic0VFBbMAI4scsrRSY0utX0yWMhqhWNNZWdnw8HBnKWV4zFhFk5kiWFLSNzJcoPGQCSWZPPKMrSOjEVNEJSuv3LRYlBfmsrtik3UaGliMbvrwk90yz7ioX1FkJus0MjelNLa+vr2ECKJObzRCJM7Pz0dk5GF88smnWLVqJSZPniwEXEtcTdEioCulF15YifvvvxdLly7lMqonMou4miJykC01Ba2Pj09gWLq5uWLcuHEICQnhSnmjJ7Ph1ZQSaWtcl7bk5ERz9OgxNtbf/OZ2Lsz0ZFZzNaUncUZGBnbv3sOS47333rssQZ7a0qnJTHbYx48fB/kyU6xrCmD/0087WKoWntxGxpNhCTJT4PiXXnqFjXf16pe4ySzizEzSOD4+vjlOeD7uvPMOTJs2jYvAhtiZuppSs9BpkdM4w8MPwsvLSxWZ1VxN0UeFpPHevfvwySefsP+SA8iePbslmWmC1SjAaJJTUlKZwfvy5U/g0KGD+PHHrZolM20Tf/jhB2zfvgMHDoQz/2ZeyayWzORccebML3jvvX8wd8Rnnnkao0ePVsO5lrZ6Mpu6mlL6AJKEubm5zAEhPT2DfWjUSOarCrAhzBhISSHhQWQmqUyeZsuWLQc5qogms9Wac4o6M69c+SL+9a9/Y9OmbwSSeSUuXEgU4mhBHjGRkZHs3EfumrSb+NOf/shNZjVnZiIIZaKgDJIknVetehETJkxQsq47rEsJ7ZocLRa2cbRQ8hCShMydMjeX+SDHxMSgUdeoiszlWfFI2vKKakcLcs188sm/4OTJE8LJbLWOFqK8pixDZnFeU0lJydizZw9mzJiOw4eP4K23/v6rkZnSyqxd+y727duPJ574Mx566PfcqXdMkVOpAqw9gtOHLyMzE/V1dSxp3r79+wWQWYzXlCSziVnrDGSmRfnll18hNDQEY8eOZVL51yIzSWXKXbVmzRtsW71y5fPMf5YUYaQhpi0eb04t/fSKIDONk/zcSSEXGhrK/Mo7C5lFb7Npbim9kU0jCwNhuXKjk5m21/v27WMBACZOnAAfHx/ms/prkZmCONAu5vPPv8Czzz6Dhx56EGlpaew8SmQmM8ehQ4eyFLJKwuIarhC1ZGYGJYWFyM7JQU8fH5a0jyShJLMyHhKO+ugldNa3OJnVKMAMX81S22y1jhYXLiSBFvecObPZVQ8VEWTmVYAdOhSB1atXs6ySFN2FQtRQaJ/ExERs3rwZVVXVWL58Ge677z7uvMpqFWC0k6GPS119HcvvTEUUmUVZgFlymy1KMhNupLQjgUKYSjKrcIEkAD/4YB1GjhyBKVOmMCOMX5vMFFyQtthBQYFYufIFNi7aVlO0l02bvmX/RhKa7uspUB2PcYYaMtP2mrTFOTmXWUgkZ+cmzCSZlUllfW2SzIQp3fxIMnOSmc4ptKjprDJt2tRWsbD++9+PsHbtO1i27DE89NBDTAKSxZoSqzVeyfzcc/+Hv//9baZFf/HFlejX76otM5Fo9epXmfENOcevXv0KOxYoLbxkJilCVz50F0+WfIZB/IjMB8LDmQLstttuZUYjhJfSo0Bnk8z6aCMknSWZOcmcnJyM5557niVqHzGidWyrHTt24rvvvsftt9+KsLB5CA4eiMDAQGZCaW5RS+YVK55gkplIY1goY+Urr6zG/Pnz8corL7NdhdLCS2bayURHxzDJPGZM6ztvOkPTdRotTtI90AeQNNwUjVVJ6Wxk1m+16UMpycxJ5oiISLz88iuIjY1ts9YoRGtlZRXbdlO88KVL/4Dly/+IgIAAs9clL5lfeullvPXWW3jssccYmUm5ZFh27NjBpHPv3v7XncxkwUfJAshAxLjQYqSjABU6U9K4Z8yYgb59zceM2nZGMusVYRYn842qzSYFE9k6k/OCcSGF2A8//IgFCxYwxdigQcEYNGgQ3NzaxtRuj928RiPbtm3Ha6+9hqFDQ9g2e+DAASbJPGDAQKxe/TKLZ6608Gqz6VxHEvjKlbI2jywqLkJ0VDT7fdy4m+Dh0Z3F+laCGbUV5WhhSQWYKKMRQxCJ0NeFzCJcIC2lzbZEqF0R2mxeMpPWmrbRubn5WLXqBSbd9OdOmvAtW7aA0unMnTuXSW4yn1RaeMnc0XNEKcA6K5kJ2+tCZhFxs8kp4t///gAbN36N2bNnm5Hu5tpL1FIukL8mmQlr+hBs2PAR7rvvXmaFpj+r013k66+vwZkzZ5jUbi9I/LWQ6wxkJoOWFSuewqlTJ7F7989sZ6W26L2mRF5NGY5J82Qm22JaoE88sYJdraxb90GLtpOuVZRqOw1f/kYkM70fWVWRoovcHpcvX45Jk5qyPhw7dpyleJ0wYTw7x9N2j6fcyGSmszutOTK0efzxZbh4MQVff/0lbrrpJoYXz1WeHuMbgsxqttmnTp1ijgvvv/9PlJaWMu0r3Y/Onj2LXQexBGWc5fnnydGCMlq8KjSjxRdffIl169bhwQd/jyVLlig+99HrNG2z9+GRRx7mCrVLkmXjxk04f/48s/iiQtZhtO2mczwvkakfUY4WhtNGzhaRhw+zq6mwsLlcmDWdmcnRQp/RQpnXFLUn/3nyqz5y5AjoipEUmFOnTsHdd9/NPoIUbIK3EJlFxs02HofFJbMoCzBeADtqZynJLGKsvGdm42eTBpmUTkReuurhOSMb92kJySwCsyYyi3G0EDUew35EByeQZDZAoDOQ2RKLUpKZD1VJZj7czGpliUgjZj3YjEq898xmdK26ChmNMH9mgyD4qjsV1IGaSCOChtBuN5LMFkRYkpkPXElmPtwkmflwM6uVJLNZMLWpxGvOyfc0Za1EWYApe6p5ta1em611BZhaF0jzplF5La1vsynXlIgYYMqR6biFNZDZEhZghIrUZstk64r5JBVgiiFjDeQ2mw83s1pJbbZZMLWpJMnMh5vVk1mUowUffB23IqMRsmWW+ZmVoas3GnEdtbAlP7OyHixXm4xGLmxuis55o+dnNkbxumyz6Yv08MNLhQSuF7kMVq16mVmAkfcQTb6WClkfUXRNMrucO/dmLQ2NZXr4x8aDcBt5hwbJnIiELa8xW+pXX31FU7gRDygwBFmVLVv2uPCxWZzMZMmUkJDAfHnV2LUKf3OApR4pKipm5nqUSUFL5ezZs0hLS8eIESNYCCAtlZSUFERFRSMwsB8L/aOlUlBQwFIZkdnl9OnTtDQ0Ft6HoqyQ4KBEiqKLxcl89OhRxMTEssBjpgKBkqOE8e+GLntMS2eijikgDJ0u2gs6ath3VlYWc+IgG2/6WrbZtvyKY6NFSV5O9JGhSJpaGhuFSiITURqXqY/grzmnVVVVzAadPJP8/Pw0hRsNhgTasGGhmDRpkmguW16bLXzEskOJgETAJAIWl8wSd4mAROD6ICDJfH1wlk+RCFgcAUlmi0MsHyARuD4I/D9s/BpuL9OYfAAAAABJRU5ErkJggg==)"
      ],
      "metadata": {
        "id": "-H-Z_3wbGuUZ"
      }
    },
    {
      "cell_type": "code",
      "source": [
        "# TODO: agregar función\n",
        "def triangulo_pascal(n):\n",
        "    pass"
      ],
      "metadata": {
        "id": "vSRGjOq1MOLZ"
      },
      "execution_count": null,
      "outputs": []
    },
    {
      "cell_type": "code",
      "source": [
        "# Llamando a la función para generar 10 filas\n",
        "filas = triangulo_pascal(10)\n",
        "filas"
      ],
      "metadata": {
        "colab": {
          "base_uri": "https://localhost:8080/"
        },
        "id": "E0a3aY0KLhOM",
        "outputId": "84594b41-638d-489e-ffe0-93a36f8cc632"
      },
      "execution_count": null,
      "outputs": [
        {
          "output_type": "execute_result",
          "data": {
            "text/plain": [
              "[[1],\n",
              " [1, 1],\n",
              " [1, 2, 1],\n",
              " [1, 3, 3, 1],\n",
              " [1, 4, 6, 4, 1],\n",
              " [1, 5, 10, 10, 5, 1],\n",
              " [1, 6, 15, 20, 15, 6, 1],\n",
              " [1, 7, 21, 35, 35, 21, 7, 1],\n",
              " [1, 8, 28, 56, 70, 56, 28, 8, 1],\n",
              " [1, 9, 36, 84, 126, 126, 84, 36, 9, 1]]"
            ]
          },
          "metadata": {},
          "execution_count": 18
        }
      ]
    },
    {
      "cell_type": "markdown",
      "source": [
        "**Test.** No modificar el test, sólo ejecutar:"
      ],
      "metadata": {
        "id": "Hl3A8ipSLmTz"
      }
    },
    {
      "cell_type": "code",
      "source": [
        "# Lista con las primeras 10 filas del triángulo de Pascal\n",
        "filas_esperadas = [\n",
        "    [1],\n",
        "    [1, 1],\n",
        "    [1, 2, 1],\n",
        "    [1, 3, 3, 1],\n",
        "    [1, 4, 6, 4, 1],\n",
        "    [1, 5, 10, 10, 5, 1],\n",
        "    [1, 6, 15, 20, 15, 6, 1],\n",
        "    [1, 7, 21, 35, 35, 21, 7, 1],\n",
        "    [1, 8, 28, 56, 70, 56, 28, 8, 1],\n",
        "    [1, 9, 36, 84, 126, 126, 84, 36, 9, 1]\n",
        "]\n",
        "\n",
        "# Prueba básica para verificar si el código funciona correctamente\n",
        "if filas == filas_esperadas:\n",
        "    print(\"¡Felicitaciones, el código funciona correctamente!\")\n",
        "else:\n",
        "    print(\"Intenta de nuevo, algo salió mal.\")"
      ],
      "metadata": {
        "colab": {
          "base_uri": "https://localhost:8080/"
        },
        "id": "KO3AlrZyLmv8",
        "outputId": "87d971c3-ddb9-491e-da6e-0fdc9da9be00"
      },
      "execution_count": null,
      "outputs": [
        {
          "output_type": "stream",
          "name": "stdout",
          "text": [
            "¡Felicitaciones, el código funciona correctamente!\n"
          ]
        }
      ]
    }
  ]
}