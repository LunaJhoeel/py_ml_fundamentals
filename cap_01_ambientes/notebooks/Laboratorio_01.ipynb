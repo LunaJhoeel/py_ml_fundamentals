{
  "nbformat": 4,
  "nbformat_minor": 0,
  "metadata": {
    "colab": {
      "provenance": []
    },
    "kernelspec": {
      "name": "python3",
      "display_name": "Python 3"
    },
    "language_info": {
      "name": "python"
    }
  },
  "cells": [
    {
      "cell_type": "code",
      "source": [
        "!python --version"
      ],
      "metadata": {
        "colab": {
          "base_uri": "https://localhost:8080/"
        },
        "id": "lKg1Fk-8_YI_",
        "outputId": "778b1ce8-22e4-4161-9b76-5b35670c60f1"
      },
      "execution_count": 1,
      "outputs": [
        {
          "output_type": "stream",
          "name": "stdout",
          "text": [
            "Python 3.10.12\n"
          ]
        }
      ]
    },
    {
      "cell_type": "markdown",
      "source": [
        "# Sintaxis (Cadenas)"
      ],
      "metadata": {
        "id": "E4Lj0oeR-k_I"
      }
    },
    {
      "cell_type": "code",
      "execution_count": 2,
      "metadata": {
        "id": "n1mFJDbF-OuF"
      },
      "outputs": [],
      "source": [
        "# Ejemplo simple: Crear una cadena de texto\n",
        "saludo = \"Hola, Cibertec!\""
      ]
    },
    {
      "cell_type": "code",
      "source": [
        "# Ejemplo medio: Operaciones con cadenas\n",
        "nombre = \"Cibertec\"\n",
        "saludo_completo = f\"Hola, {nombre}\""
      ],
      "metadata": {
        "id": "hqR34UW8_Qxc"
      },
      "execution_count": 3,
      "outputs": []
    },
    {
      "cell_type": "code",
      "source": [
        "# Ejemplo avanzado: Métodos de cadenas\n",
        "texto = \"  hola cibertec  \"\n",
        "texto_limpio = texto.strip()  # Elimina espacios en blanco al inicio y al final\n",
        "texto_mayuscula = texto.upper()  # Convierte el texto a mayúsculas"
      ],
      "metadata": {
        "id": "6GaVW-hh_Rf_"
      },
      "execution_count": 4,
      "outputs": []
    },
    {
      "cell_type": "markdown",
      "source": [
        "# Variables"
      ],
      "metadata": {
        "id": "VcKXYk3UAHOY"
      }
    },
    {
      "cell_type": "code",
      "source": [
        "# Ejemplo simple: Asignación de variables\n",
        "nombre = \"Cibertec\"\n",
        "print(nombre)"
      ],
      "metadata": {
        "colab": {
          "base_uri": "https://localhost:8080/"
        },
        "id": "H6lbQOzVAI1f",
        "outputId": "31f1983f-3d90-429f-a5eb-5a97e2a3c7be"
      },
      "execution_count": 5,
      "outputs": [
        {
          "output_type": "stream",
          "name": "stdout",
          "text": [
            "Cibertec\n"
          ]
        }
      ]
    },
    {
      "cell_type": "code",
      "source": [
        "# Ejemplo medio: Variables de diferentes tipos\n",
        "texto = \"Hola\"\n",
        "numero = 42\n",
        "flotante = 3.14\n",
        "es_verdad = True"
      ],
      "metadata": {
        "id": "5i_VcnziAOmf"
      },
      "execution_count": 6,
      "outputs": []
    },
    {
      "cell_type": "code",
      "source": [
        "# Ejemplo avanzado: Uso de variables en una función\n",
        "def calcular_area_circulo(radio):\n",
        "    \"\"\"Calcula el área de un círculo\"\"\"\n",
        "    pi = 3.14159\n",
        "    area = pi * (radio ** 2)\n",
        "    return area"
      ],
      "metadata": {
        "id": "zqQQ74aUAQHD"
      },
      "execution_count": 7,
      "outputs": []
    },
    {
      "cell_type": "markdown",
      "source": [
        "# Operaciones"
      ],
      "metadata": {
        "id": "3gi9jzhFAw_1"
      }
    },
    {
      "cell_type": "code",
      "source": [
        "# Ejemplo simple: Crear una lista\n",
        "mi_lista = [1, 2, 3]"
      ],
      "metadata": {
        "id": "EXt3eIGjAhqH"
      },
      "execution_count": 8,
      "outputs": []
    },
    {
      "cell_type": "code",
      "source": [
        "# Ejemplo simple: Suma de dos números\n",
        "resultado = 2 + 3"
      ],
      "metadata": {
        "id": "fzRghE1FAwFX"
      },
      "execution_count": 9,
      "outputs": []
    },
    {
      "cell_type": "code",
      "source": [
        "# Ejemplo medio: Operaciones con variables\n",
        "x = 10\n",
        "y = 5\n",
        "suma = x + y\n",
        "resta = x - y\n",
        "multiplicacion = x * y\n",
        "division = x / y"
      ],
      "metadata": {
        "id": "tZHOWUKoA0Qf"
      },
      "execution_count": 10,
      "outputs": []
    },
    {
      "cell_type": "markdown",
      "source": [
        "# Objetos"
      ],
      "metadata": {
        "id": "XwDAZzkDAfEa"
      }
    },
    {
      "cell_type": "code",
      "source": [
        "# Ejemplo avanzado: Operaciones con listas y diccionarios\n",
        "lista = [1, 2, 3]\n",
        "diccionario = {'clave': 'valor'}\n",
        "\n",
        "# Agregar elementos\n",
        "lista.append(4)\n",
        "diccionario['nueva_clave'] = 'nuevo_valor'\n",
        "\n",
        "# Eliminar elementos\n",
        "lista.remove(1)\n",
        "del diccionario['clave']"
      ],
      "metadata": {
        "id": "qQrEo5KiA3fn"
      },
      "execution_count": 11,
      "outputs": []
    },
    {
      "cell_type": "code",
      "source": [
        "# Ejemplo medio: Crear un objeto de una clase\n",
        "class Persona:\n",
        "    def __init__(self, nombre):\n",
        "        self.nombre = nombre"
      ],
      "metadata": {
        "id": "onimIKMGAiQU"
      },
      "execution_count": 12,
      "outputs": []
    },
    {
      "cell_type": "code",
      "source": [
        "persona1 = Persona(\"Jhoeel\")\n",
        "# Acceder al atributo nombre del objeto y mostrarlo\n",
        "print(persona1.nombre)"
      ],
      "metadata": {
        "colab": {
          "base_uri": "https://localhost:8080/"
        },
        "id": "H-VnnCdbB-hD",
        "outputId": "fee5250c-2d77-46b1-962e-e83eaf210d17"
      },
      "execution_count": 13,
      "outputs": [
        {
          "output_type": "stream",
          "name": "stdout",
          "text": [
            "Jhoeel\n"
          ]
        }
      ]
    },
    {
      "cell_type": "code",
      "source": [
        "# Ejemplo avanzado: Herencia y métodos en clases\n",
        "class Profesor(Persona):\n",
        "    def __init__(self, nombre, materia_enseñada):\n",
        "        super().__init__(nombre)\n",
        "        self.materia_enseñada = materia_enseñada\n",
        "\n",
        "    def mostrar_curso(self):\n",
        "        \"\"\"Muestra el curso que el profesor enseña\"\"\"\n",
        "        print(f\"{self.nombre} enseña el curso de {self.materia_enseñada}\")"
      ],
      "metadata": {
        "id": "u00qJmFhAkn6"
      },
      "execution_count": 14,
      "outputs": []
    },
    {
      "cell_type": "code",
      "source": [
        "# Creando un objeto de la clase Profesor\n",
        "profe_jhoeel = Profesor(\"Jhoeel\", \"Machine Learning\")\n",
        "profe_jhoeel.mostrar_curso()"
      ],
      "metadata": {
        "colab": {
          "base_uri": "https://localhost:8080/"
        },
        "id": "2uFdC3shB0cJ",
        "outputId": "82f997b8-7423-459f-ebdb-4548506ac623"
      },
      "execution_count": 15,
      "outputs": [
        {
          "output_type": "stream",
          "name": "stdout",
          "text": [
            "Jhoeel enseña el curso de Machine Learning\n"
          ]
        }
      ]
    },
    {
      "cell_type": "markdown",
      "source": [
        "# Listas"
      ],
      "metadata": {
        "id": "oNo39uohDPPd"
      }
    },
    {
      "cell_type": "code",
      "source": [
        "# Ejemplo simple: Creación de una lista\n",
        "numeros = [1, 2, 3, 4]"
      ],
      "metadata": {
        "id": "37bvRYhLDdqh"
      },
      "execution_count": 16,
      "outputs": []
    },
    {
      "cell_type": "code",
      "source": [
        "# Ejemplo medio: Acceso y modificación de elementos en una lista\n",
        "primero = numeros[0]\n",
        "numeros[1] = 7"
      ],
      "metadata": {
        "id": "TppOeo9XDg83"
      },
      "execution_count": 17,
      "outputs": []
    },
    {
      "cell_type": "code",
      "source": [
        "# Ejemplo avanzado: Métodos y slicing en listas\n",
        "numeros.append(5)\n",
        "sub_lista = numeros[1:4]"
      ],
      "metadata": {
        "id": "nqCjtTXyDiLi"
      },
      "execution_count": 18,
      "outputs": []
    },
    {
      "cell_type": "markdown",
      "source": [
        "# Tuplas"
      ],
      "metadata": {
        "id": "6idWvKI_DRQV"
      }
    },
    {
      "cell_type": "code",
      "source": [
        "# Ejemplo simple: Creación de una tupla\n",
        "coordenadas = (4, 5)"
      ],
      "metadata": {
        "id": "Hm4o3LFSDj-g"
      },
      "execution_count": 19,
      "outputs": []
    },
    {
      "cell_type": "code",
      "source": [
        "# Ejemplo medio: Acceso a elementos en una tupla\n",
        "x = coordenadas[0]\n",
        "y = coordenadas[1]"
      ],
      "metadata": {
        "id": "zDLQG4cDDk-Z"
      },
      "execution_count": 20,
      "outputs": []
    },
    {
      "cell_type": "code",
      "source": [
        "# Ejemplo avanzado: Desempacar una tupla\n",
        "x, y = coordenadas\n",
        "x, y"
      ],
      "metadata": {
        "colab": {
          "base_uri": "https://localhost:8080/"
        },
        "id": "DzdnLTQBDo47",
        "outputId": "bcae0f22-2a3a-42fb-abb4-5e82353070bc"
      },
      "execution_count": 21,
      "outputs": [
        {
          "output_type": "execute_result",
          "data": {
            "text/plain": [
              "(4, 5)"
            ]
          },
          "metadata": {},
          "execution_count": 21
        }
      ]
    },
    {
      "cell_type": "markdown",
      "source": [
        "# Diccionarios"
      ],
      "metadata": {
        "id": "WjWfjXxIDSq1"
      }
    },
    {
      "cell_type": "code",
      "source": [
        "# Ejemplo simple: Creación de un diccionario\n",
        "persona = {'nombre': 'Jhoeel', 'peso': 70}"
      ],
      "metadata": {
        "id": "762H3hMNDsm2"
      },
      "execution_count": 22,
      "outputs": []
    },
    {
      "cell_type": "code",
      "source": [
        "# Ejemplo medio: Acceso y modificación de elementos en un diccionario\n",
        "nombre = persona['nombre']\n",
        "persona['peso'] = 85"
      ],
      "metadata": {
        "id": "bxWA-A8EEMZN"
      },
      "execution_count": 23,
      "outputs": []
    },
    {
      "cell_type": "code",
      "source": [
        "# Ejemplo avanzado: Métodos en diccionarios\n",
        "keys = persona.keys()\n",
        "values = persona.values()"
      ],
      "metadata": {
        "id": "gLGUFUKCEfPM"
      },
      "execution_count": 24,
      "outputs": []
    },
    {
      "cell_type": "markdown",
      "source": [
        "# Sets"
      ],
      "metadata": {
        "id": "m9cPN5_yDUh2"
      }
    },
    {
      "cell_type": "code",
      "source": [
        "# Ejemplo simple: Creación de un set\n",
        "conjunto = {1, 2, 3}"
      ],
      "metadata": {
        "id": "LYft1oy_Elqf"
      },
      "execution_count": 25,
      "outputs": []
    },
    {
      "cell_type": "code",
      "source": [
        "# Ejemplo medio: Adición y eliminación de elementos en un set\n",
        "conjunto.add(4)\n",
        "conjunto.remove(1)"
      ],
      "metadata": {
        "id": "ueosrWxYEmos"
      },
      "execution_count": 26,
      "outputs": []
    },
    {
      "cell_type": "code",
      "source": [
        "# Ejemplo avanzado: Operaciones de conjunto\n",
        "otro_conjunto = {3, 4, 5}\n",
        "interseccion = conjunto & otro_conjunto"
      ],
      "metadata": {
        "id": "zM4qLeMFEn4n"
      },
      "execution_count": 27,
      "outputs": []
    },
    {
      "cell_type": "markdown",
      "source": [
        "# Condiciones"
      ],
      "metadata": {
        "id": "82d3egvvDWDB"
      }
    },
    {
      "cell_type": "code",
      "source": [
        "# Ejemplo simple: Condicional if\n",
        "if 5 > 2:\n",
        "    print(\"5 es mayor que 2\")"
      ],
      "metadata": {
        "colab": {
          "base_uri": "https://localhost:8080/"
        },
        "id": "hXjyx3k_EpiU",
        "outputId": "1c88f767-e9c8-4631-f632-33461a5e8215"
      },
      "execution_count": 28,
      "outputs": [
        {
          "output_type": "stream",
          "name": "stdout",
          "text": [
            "5 es mayor que 2\n"
          ]
        }
      ]
    },
    {
      "cell_type": "code",
      "source": [
        "# Ejemplo medio: Condicional if-else\n",
        "if 5 < 2:\n",
        "    print(\"5 es menor que 2\")\n",
        "else:\n",
        "    print(\"5 no es menor que 2\")"
      ],
      "metadata": {
        "colab": {
          "base_uri": "https://localhost:8080/"
        },
        "id": "9GU4e5M_Eqxg",
        "outputId": "208b96af-6c9d-4829-ad7f-cf02b4249321"
      },
      "execution_count": 29,
      "outputs": [
        {
          "output_type": "stream",
          "name": "stdout",
          "text": [
            "5 no es menor que 2\n"
          ]
        }
      ]
    },
    {
      "cell_type": "code",
      "source": [
        "# Ejemplo avanzado: Condicional if-elif-else\n",
        "x = 10\n",
        "if x > 10:\n",
        "    print(\"x es mayor que 10\")\n",
        "elif x == 10:\n",
        "    print(\"x es igual a 10\")\n",
        "else:\n",
        "    print(\"x es menor que 10\")"
      ],
      "metadata": {
        "colab": {
          "base_uri": "https://localhost:8080/"
        },
        "id": "0GFcPEqdEsGp",
        "outputId": "2a2e004c-a511-4532-da62-3665c5055eb8"
      },
      "execution_count": 30,
      "outputs": [
        {
          "output_type": "stream",
          "name": "stdout",
          "text": [
            "x es igual a 10\n"
          ]
        }
      ]
    },
    {
      "cell_type": "markdown",
      "source": [
        "# Bucles"
      ],
      "metadata": {
        "id": "7ynhzotRDXvp"
      }
    },
    {
      "cell_type": "code",
      "source": [
        "# Ejemplo simple: Bucle for\n",
        "for i in range(3):\n",
        "    print(i)"
      ],
      "metadata": {
        "colab": {
          "base_uri": "https://localhost:8080/"
        },
        "id": "JgGvDD8AEt9M",
        "outputId": "b9330100-49b9-435c-beee-1d7824ba5614"
      },
      "execution_count": 31,
      "outputs": [
        {
          "output_type": "stream",
          "name": "stdout",
          "text": [
            "0\n",
            "1\n",
            "2\n"
          ]
        }
      ]
    },
    {
      "cell_type": "code",
      "source": [
        "# Ejemplo medio: Bucle while\n",
        "contador = 0\n",
        "while contador < 3:\n",
        "    print(contador)\n",
        "    contador += 1"
      ],
      "metadata": {
        "colab": {
          "base_uri": "https://localhost:8080/"
        },
        "id": "BbU-GOApEvCG",
        "outputId": "36e68af7-97ee-404c-e6fe-9bc359f4435b"
      },
      "execution_count": 32,
      "outputs": [
        {
          "output_type": "stream",
          "name": "stdout",
          "text": [
            "0\n",
            "1\n",
            "2\n"
          ]
        }
      ]
    },
    {
      "cell_type": "code",
      "source": [
        "# Ejemplo avanzado: Bucles anidados\n",
        "for i in range(3):\n",
        "    for j in range(3):\n",
        "        print(i, j)"
      ],
      "metadata": {
        "colab": {
          "base_uri": "https://localhost:8080/"
        },
        "id": "vpv1g-7cEwaq",
        "outputId": "c9038275-407a-482f-bf0d-457ecb615c5c"
      },
      "execution_count": 33,
      "outputs": [
        {
          "output_type": "stream",
          "name": "stdout",
          "text": [
            "0 0\n",
            "0 1\n",
            "0 2\n",
            "1 0\n",
            "1 1\n",
            "1 2\n",
            "2 0\n",
            "2 1\n",
            "2 2\n"
          ]
        }
      ]
    },
    {
      "cell_type": "markdown",
      "source": [
        "# Funciones"
      ],
      "metadata": {
        "id": "XJ6suY5BDZxL"
      }
    },
    {
      "cell_type": "code",
      "source": [
        "# Ejemplo simple: Definición de una función\n",
        "def saludo():\n",
        "    print(\"Hola\")"
      ],
      "metadata": {
        "id": "jkpg6Y1kDBgN"
      },
      "execution_count": 34,
      "outputs": []
    },
    {
      "cell_type": "code",
      "source": [
        "# Ejemplo medio: Función con parámetros\n",
        "def suma(a, b):\n",
        "    return a + b"
      ],
      "metadata": {
        "id": "ri5Fu6b4EzbB"
      },
      "execution_count": 35,
      "outputs": []
    },
    {
      "cell_type": "code",
      "source": [
        "# Ejemplo avanzado: Funciones de orden superior\n",
        "def aplicar_funcion(func, x, y):\n",
        "    return func(x, y)\n",
        "\n",
        "resultado = aplicar_funcion(suma, 5, 3)"
      ],
      "metadata": {
        "id": "YmFk2H1UE1oP"
      },
      "execution_count": 36,
      "outputs": []
    },
    {
      "cell_type": "markdown",
      "source": [
        "# Errores"
      ],
      "metadata": {
        "id": "XP2LuoVZE9ea"
      }
    },
    {
      "cell_type": "code",
      "source": [
        "# Ejemplo simple: Error de sintaxis\n",
        "try:\n",
        "    print(\"Hola\"\n",
        "except SyntaxError:\n",
        "    print(\"Hubo un error de sintaxis\")"
      ],
      "metadata": {
        "colab": {
          "base_uri": "https://localhost:8080/",
          "height": 141
        },
        "id": "TvqbbuLHFOH-",
        "outputId": "2e61e968-08f7-4347-af35-12e773aa8bc2"
      },
      "execution_count": 37,
      "outputs": [
        {
          "output_type": "error",
          "ename": "SyntaxError",
          "evalue": "ignored",
          "traceback": [
            "\u001b[0;36m  File \u001b[0;32m\"<ipython-input-37-0c2a862ae346>\"\u001b[0;36m, line \u001b[0;32m3\u001b[0m\n\u001b[0;31m    print(\"Hola\"\u001b[0m\n\u001b[0m         ^\u001b[0m\n\u001b[0;31mSyntaxError\u001b[0m\u001b[0;31m:\u001b[0m '(' was never closed\n"
          ]
        }
      ]
    },
    {
      "cell_type": "code",
      "source": [
        "# Ejemplo medio: Manejo de errores con try-except\n",
        "try:\n",
        "    resultado = 10 / 0\n",
        "except ZeroDivisionError:\n",
        "    print(\"División por cero\")"
      ],
      "metadata": {
        "colab": {
          "base_uri": "https://localhost:8080/"
        },
        "id": "RlO7RfQbFOzN",
        "outputId": "7356ef51-056e-4633-a377-accd5a9f4d59"
      },
      "execution_count": 38,
      "outputs": [
        {
          "output_type": "stream",
          "name": "stdout",
          "text": [
            "División por cero\n"
          ]
        }
      ]
    },
    {
      "cell_type": "code",
      "source": [
        "# Ejemplo avanzado: Manejo múltiple de errores\n",
        "try:\n",
        "    # código que podría lanzar varios errores\n",
        "    pass\n",
        "except (ValueError, TypeError) as e:\n",
        "    print(f\"Ocurrió un error: {e}\")"
      ],
      "metadata": {
        "id": "AwciY4v1FRbC"
      },
      "execution_count": 39,
      "outputs": []
    },
    {
      "cell_type": "markdown",
      "source": [
        "# Map y filter"
      ],
      "metadata": {
        "id": "T-J_zn6tE_Jq"
      }
    },
    {
      "cell_type": "code",
      "source": [
        "# Ejemplo simple: Uso de map para elevar al cuadrado\n",
        "cuadrados = list(map(lambda x: x**2, [1, 2, 3, 4]))"
      ],
      "metadata": {
        "id": "zXoT-3dbFS6o"
      },
      "execution_count": 40,
      "outputs": []
    },
    {
      "cell_type": "code",
      "source": [
        "# Ejemplo medio: Uso de filter para obtener números pares\n",
        "pares = list(filter(lambda x: x % 2 == 0, [1, 2, 3, 4]))"
      ],
      "metadata": {
        "id": "nhLb-dBrFT-n"
      },
      "execution_count": 41,
      "outputs": []
    },
    {
      "cell_type": "code",
      "source": [
        "# Ejemplo avanzado: Uso combinado de map y filter\n",
        "resultados = list(map(lambda x: x**2, filter(lambda x: x % 2 == 0, [1, 2, 3, 4])))"
      ],
      "metadata": {
        "id": "3vCxKplRFVYH"
      },
      "execution_count": 42,
      "outputs": []
    },
    {
      "cell_type": "markdown",
      "source": [
        "# List Comprehension"
      ],
      "metadata": {
        "id": "ZQ_A4jGHFAzC"
      }
    },
    {
      "cell_type": "code",
      "source": [
        "# Ejemplo simple: List comprehension para elevar al cuadrado\n",
        "cuadrados = [x**2 for x in [1, 2, 3, 4]]"
      ],
      "metadata": {
        "id": "274tveJeFX0g"
      },
      "execution_count": 43,
      "outputs": []
    },
    {
      "cell_type": "code",
      "source": [
        "# Ejemplo medio: List comprehension con condicional\n",
        "pares_cuadrados = [x**2 for x in [1, 2, 3, 4] if x % 2 == 0]"
      ],
      "metadata": {
        "id": "r-ZVo-msFbHg"
      },
      "execution_count": 44,
      "outputs": []
    },
    {
      "cell_type": "code",
      "source": [
        "# Ejemplo avanzado: List comprehension anidada\n",
        "matriz = [[j for j in range(3)] for i in range(3)]"
      ],
      "metadata": {
        "id": "UV-pRKVgFcQK"
      },
      "execution_count": 45,
      "outputs": []
    },
    {
      "cell_type": "markdown",
      "source": [
        "# Import"
      ],
      "metadata": {
        "id": "0HQ_lwhGFDGi"
      }
    },
    {
      "cell_type": "code",
      "source": [
        "# Ejemplo simple: Importar un módulo\n",
        "import math"
      ],
      "metadata": {
        "id": "mrR_Pmn8E-lM"
      },
      "execution_count": 46,
      "outputs": []
    },
    {
      "cell_type": "code",
      "source": [
        "# Ejemplo medio: Importar una función específica de un módulo\n",
        "from math import sqrt"
      ],
      "metadata": {
        "id": "Pa9hvckmFfBO"
      },
      "execution_count": 47,
      "outputs": []
    },
    {
      "cell_type": "code",
      "source": [
        "# Ejemplo avanzado: Importar con alias y uso de múltiples funciones\n",
        "import numpy as np\n",
        "from scipy import stats"
      ],
      "metadata": {
        "id": "k6CSITaWFgCT"
      },
      "execution_count": 48,
      "outputs": []
    }
  ]
}